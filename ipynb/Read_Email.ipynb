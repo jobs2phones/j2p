{
 "metadata": {
  "name": "",
  "signature": "sha256:99ec415ebbf1963e6ddb5f166ea094705562bef73edcb2ac1cb9d5ea5e56245e"
 },
 "nbformat": 3,
 "nbformat_minor": 0,
 "worksheets": [
  {
   "cells": [
    {
     "cell_type": "code",
     "collapsed": false,
     "input": [
      "import sys\n",
      "import imaplib\n",
      "import email\n",
      "import datetime\n",
      "import yaml\n",
      "import re\n",
      "from bs4 import BeautifulSoup\n",
      "sys.path.append('../')\n",
      "import jobs2phones as j2p"
     ],
     "language": "python",
     "metadata": {},
     "outputs": [],
     "prompt_number": 12
    },
    {
     "cell_type": "code",
     "collapsed": false,
     "input": [
      "with open('../config.yaml') as f:\n",
      "    cf = yaml.safe_load(f)"
     ],
     "language": "python",
     "metadata": {},
     "outputs": [],
     "prompt_number": 13
    },
    {
     "cell_type": "code",
     "collapsed": false,
     "input": [
      "def parse_text_message_from_email(msg):\n",
      "    '''\n",
      "    Gets the actual text sent to the email address by parsing it out of the email body\n",
      "    '''\n",
      "    text = {}\n",
      "    text['sender'] = msg['from']\n",
      "    if msg.is_multipart():\n",
      "        for i,part in enumerate(msg.walk()):\n",
      "            if part.get_content_type() =='text/plain':\n",
      "                msg_body = part.get_payload(decode=True)\n",
      "    else:\n",
      "        msg_body = msg.get_payload(decode=True)\n",
      "    msg_body.replace('\\r','').replace('\\n','')\n",
      "   \n",
      "    text['message']=msg_body\n",
      "    return text\n",
      "\n",
      "\n",
      "def parse_choices(choices_made):\n",
      "    '''\n",
      "    Takes a numbered list of choices and maps them to the relevant search criteria.\n",
      "    '''\n",
      "    search_criteria='';\n",
      "    for choice in choices_made:\n",
      "        if choice == '1':\n",
      "            search_criteria='dishwasher&20philadelphia ' + search_criteria\n",
      "        if choice == '2':\n",
      "            search_criteria='warehouse&20philadelphia ' + search_criteria\n",
      "        if choice == '3':\n",
      "            search_criteria='cook&20philadelphia ' + search_criteria\n",
      "    return search_criteria\n",
      "\n",
      "def read_mailbox_and_edit_users(M):\n",
      "    \"\"\"\n",
      "    Processes mail in order to add,edit, and remove users\n",
      "    \"\"\"\n",
      "    Session = j2p.bind_to_database(cf['postgres_username'],cf['postgres_password'],cf['postgres_db'])\n",
      "    rv, data_num = M.search(None, \"ALL\")\n",
      "    if rv != 'OK':\n",
      "        print \"No messages found!\"\n",
      "        return\n",
      "                    \n",
      "    messages=[]\n",
      "    for num in data_num[0].split():\n",
      "        rv, data = M.fetch(num, '(RFC822)')\n",
      "        if rv != 'OK':\n",
      "            print \"ERROR getting message\", num\n",
      "            return\n",
      "        email_data = email.message_from_string(data[0][1])\n",
      "        text = parse_text_message_from_email(email_data)\n",
      "        choices_made = re.findall(r'\\d+',text['message'])\n",
      "        if 'stop' in text['message'].lower():\n",
      "            j2p.delete_user(Session,text['sender'])\n",
      "            j2p.send_text(cf['fromaddr'],cf['username'],cf['password'],text['sender'],cf['stop_message'])\n",
      "            M.store(num , '+FLAGS', '\\\\Deleted') #This archives the message.\n",
      "        elif 'start' in text['message'].lower() or 'list' in text['message'].lower():\n",
      "            j2p.send_text(cf['fromaddr'],cf['username'],cf['password'],text['sender'],cf['start_message'])\n",
      "            M.store(num , '+FLAGS', '\\\\Deleted') #This archives the message.\n",
      "        elif len(choices_made) > 0:\n",
      "            search_criteria = parse_choices(choices_made)\n",
      "            if len(search_criteria) > 0:\n",
      "                if j2p.check_user(Session,text['sender']):\n",
      "                    j2p.edit_user(Session,text['sender'],search_criteria)\n",
      "                else:\n",
      "                    j2p.insert_user(Session,'',text['sender'],'',search_criteria)\n",
      "                j2p.send_text(cf['fromaddr'],cf['username'],cf['password'],text['sender'],\n",
      "                              str(choices_made) + '. ' + cf['chosen_message'])\n",
      "                M.store(num , '+FLAGS', '\\\\Deleted') #This archives the message."
     ],
     "language": "python",
     "metadata": {},
     "outputs": [],
     "prompt_number": 21
    },
    {
     "cell_type": "code",
     "collapsed": false,
     "input": [
      "EMAIL_ACCOUNT = cf['username']\n",
      "EMAIL_FOLDER = \"INBOX\"\n",
      "\n",
      "M = imaplib.IMAP4_SSL('imap.gmail.com')\n",
      "\n",
      "try:\n",
      "    rv, data = M.login(EMAIL_ACCOUNT, cf['password'])\n",
      "except imaplib.IMAP4.error:\n",
      "    print \"LOGIN FAILED!!! \"\n",
      "    sys.exit(1)"
     ],
     "language": "python",
     "metadata": {},
     "outputs": [],
     "prompt_number": 22
    },
    {
     "cell_type": "code",
     "collapsed": false,
     "input": [
      "rv, data = M.select(EMAIL_FOLDER)\n",
      "if rv == 'OK':\n",
      "    print \"Processing mailbox...\"\n",
      "    read_mailbox_and_edit_users(M)\n",
      "    M.close()\n",
      "else:\n",
      "    print \"ERROR: Unable to open mailbox \", rv"
     ],
     "language": "python",
     "metadata": {},
     "outputs": [
      {
       "output_type": "stream",
       "stream": "stdout",
       "text": [
        "Processing mailbox...\n"
       ]
      },
      {
       "ename": "IndexError",
       "evalue": "list index out of range",
       "output_type": "pyerr",
       "traceback": [
        "\u001b[1;31m---------------------------------------------------------------------------\u001b[0m\n\u001b[1;31mIndexError\u001b[0m                                Traceback (most recent call last)",
        "\u001b[1;32m<ipython-input-23-7fffd2fa7f3c>\u001b[0m in \u001b[0;36m<module>\u001b[1;34m()\u001b[0m\n\u001b[0;32m      2\u001b[0m \u001b[1;32mif\u001b[0m \u001b[0mrv\u001b[0m \u001b[1;33m==\u001b[0m \u001b[1;34m'OK'\u001b[0m\u001b[1;33m:\u001b[0m\u001b[1;33m\u001b[0m\u001b[0m\n\u001b[0;32m      3\u001b[0m     \u001b[1;32mprint\u001b[0m \u001b[1;34m\"Processing mailbox...\"\u001b[0m\u001b[1;33m\u001b[0m\u001b[0m\n\u001b[1;32m----> 4\u001b[1;33m     \u001b[0mread_mailbox_and_edit_users\u001b[0m\u001b[1;33m(\u001b[0m\u001b[0mM\u001b[0m\u001b[1;33m)\u001b[0m\u001b[1;33m\u001b[0m\u001b[0m\n\u001b[0m\u001b[0;32m      5\u001b[0m     \u001b[0mM\u001b[0m\u001b[1;33m.\u001b[0m\u001b[0mclose\u001b[0m\u001b[1;33m(\u001b[0m\u001b[1;33m)\u001b[0m\u001b[1;33m\u001b[0m\u001b[0m\n\u001b[0;32m      6\u001b[0m \u001b[1;32melse\u001b[0m\u001b[1;33m:\u001b[0m\u001b[1;33m\u001b[0m\u001b[0m\n",
        "\u001b[1;32m<ipython-input-21-3380e1cc1c31>\u001b[0m in \u001b[0;36mread_mailbox_and_edit_users\u001b[1;34m(M)\u001b[0m\n\u001b[0;32m     51\u001b[0m         \u001b[0mchoices_made\u001b[0m \u001b[1;33m=\u001b[0m \u001b[0mre\u001b[0m\u001b[1;33m.\u001b[0m\u001b[0mfindall\u001b[0m\u001b[1;33m(\u001b[0m\u001b[1;34mr'\\d+'\u001b[0m\u001b[1;33m,\u001b[0m\u001b[0mtext\u001b[0m\u001b[1;33m[\u001b[0m\u001b[1;34m'message'\u001b[0m\u001b[1;33m]\u001b[0m\u001b[1;33m)\u001b[0m\u001b[1;33m\u001b[0m\u001b[0m\n\u001b[0;32m     52\u001b[0m         \u001b[1;32mif\u001b[0m \u001b[1;34m'stop'\u001b[0m \u001b[1;32min\u001b[0m \u001b[0mtext\u001b[0m\u001b[1;33m[\u001b[0m\u001b[1;34m'message'\u001b[0m\u001b[1;33m]\u001b[0m\u001b[1;33m.\u001b[0m\u001b[0mlower\u001b[0m\u001b[1;33m(\u001b[0m\u001b[1;33m)\u001b[0m\u001b[1;33m:\u001b[0m\u001b[1;33m\u001b[0m\u001b[0m\n\u001b[1;32m---> 53\u001b[1;33m             \u001b[0mj2p\u001b[0m\u001b[1;33m.\u001b[0m\u001b[0mdelete_user\u001b[0m\u001b[1;33m(\u001b[0m\u001b[0mSession\u001b[0m\u001b[1;33m,\u001b[0m\u001b[0mtext\u001b[0m\u001b[1;33m[\u001b[0m\u001b[1;34m'sender'\u001b[0m\u001b[1;33m]\u001b[0m\u001b[1;33m)\u001b[0m\u001b[1;33m\u001b[0m\u001b[0m\n\u001b[0m\u001b[0;32m     54\u001b[0m             \u001b[0mj2p\u001b[0m\u001b[1;33m.\u001b[0m\u001b[0msend_text\u001b[0m\u001b[1;33m(\u001b[0m\u001b[0mcf\u001b[0m\u001b[1;33m[\u001b[0m\u001b[1;34m'fromaddr'\u001b[0m\u001b[1;33m]\u001b[0m\u001b[1;33m,\u001b[0m\u001b[0mcf\u001b[0m\u001b[1;33m[\u001b[0m\u001b[1;34m'username'\u001b[0m\u001b[1;33m]\u001b[0m\u001b[1;33m,\u001b[0m\u001b[0mcf\u001b[0m\u001b[1;33m[\u001b[0m\u001b[1;34m'password'\u001b[0m\u001b[1;33m]\u001b[0m\u001b[1;33m,\u001b[0m\u001b[0mtext\u001b[0m\u001b[1;33m[\u001b[0m\u001b[1;34m'sender'\u001b[0m\u001b[1;33m]\u001b[0m\u001b[1;33m,\u001b[0m\u001b[0mcf\u001b[0m\u001b[1;33m[\u001b[0m\u001b[1;34m'stop_message'\u001b[0m\u001b[1;33m]\u001b[0m\u001b[1;33m)\u001b[0m\u001b[1;33m\u001b[0m\u001b[0m\n\u001b[0;32m     55\u001b[0m             \u001b[0mM\u001b[0m\u001b[1;33m.\u001b[0m\u001b[0mstore\u001b[0m\u001b[1;33m(\u001b[0m\u001b[0mnum\u001b[0m \u001b[1;33m,\u001b[0m \u001b[1;34m'+FLAGS'\u001b[0m\u001b[1;33m,\u001b[0m \u001b[1;34m'\\\\Deleted'\u001b[0m\u001b[1;33m)\u001b[0m \u001b[1;31m#This archives the message.\u001b[0m\u001b[1;33m\u001b[0m\u001b[0m\n",
        "\u001b[1;32m/home/steve/comphonemploy/jobs2phones/load.py\u001b[0m in \u001b[0;36mdelete_user\u001b[1;34m(Session, phone_number)\u001b[0m\n\u001b[0;32m    143\u001b[0m \u001b[1;32mdef\u001b[0m \u001b[0mdelete_user\u001b[0m\u001b[1;33m(\u001b[0m\u001b[0mSession\u001b[0m\u001b[1;33m,\u001b[0m\u001b[0mphone_number\u001b[0m\u001b[1;33m)\u001b[0m\u001b[1;33m:\u001b[0m\u001b[1;33m\u001b[0m\u001b[0m\n\u001b[0;32m    144\u001b[0m         \u001b[1;32mwith\u001b[0m \u001b[0msession_scope\u001b[0m\u001b[1;33m(\u001b[0m\u001b[0mSession\u001b[0m\u001b[1;33m)\u001b[0m \u001b[1;32mas\u001b[0m \u001b[0msession\u001b[0m\u001b[1;33m:\u001b[0m\u001b[1;33m\u001b[0m\u001b[0m\n\u001b[1;32m--> 145\u001b[1;33m             \u001b[1;32mreturn\u001b[0m \u001b[0mUserDeleter\u001b[0m\u001b[1;33m(\u001b[0m\u001b[1;33m)\u001b[0m\u001b[1;33m.\u001b[0m\u001b[0mdelete\u001b[0m\u001b[1;33m(\u001b[0m\u001b[0msession\u001b[0m\u001b[1;33m,\u001b[0m\u001b[0mphone_number\u001b[0m\u001b[1;33m)\u001b[0m\u001b[1;33m\u001b[0m\u001b[0m\n\u001b[0m\u001b[0;32m    146\u001b[0m \u001b[1;33m\u001b[0m\u001b[0m\n\u001b[0;32m    147\u001b[0m \u001b[1;32mdef\u001b[0m \u001b[0mincrement_posts_sent_count\u001b[0m\u001b[1;33m(\u001b[0m\u001b[0mSession\u001b[0m\u001b[1;33m,\u001b[0m\u001b[0mphone_number\u001b[0m\u001b[1;33m)\u001b[0m\u001b[1;33m:\u001b[0m\u001b[1;33m\u001b[0m\u001b[0m\n",
        "\u001b[1;32m/home/steve/comphonemploy/jobs2phones/load.py\u001b[0m in \u001b[0;36mdelete\u001b[1;34m(self, session, phone_number)\u001b[0m\n\u001b[0;32m     49\u001b[0m \u001b[1;32mclass\u001b[0m \u001b[0mUserDeleter\u001b[0m\u001b[1;33m(\u001b[0m\u001b[0mobject\u001b[0m\u001b[1;33m)\u001b[0m\u001b[1;33m:\u001b[0m\u001b[1;33m\u001b[0m\u001b[0m\n\u001b[0;32m     50\u001b[0m     \u001b[1;32mdef\u001b[0m \u001b[0mdelete\u001b[0m\u001b[1;33m(\u001b[0m\u001b[0mself\u001b[0m\u001b[1;33m,\u001b[0m\u001b[0msession\u001b[0m\u001b[1;33m,\u001b[0m\u001b[0mphone_number\u001b[0m\u001b[1;33m)\u001b[0m\u001b[1;33m:\u001b[0m\u001b[1;33m\u001b[0m\u001b[0m\n\u001b[1;32m---> 51\u001b[1;33m         \u001b[0muser\u001b[0m \u001b[1;33m=\u001b[0m \u001b[0msession\u001b[0m\u001b[1;33m.\u001b[0m\u001b[0mquery\u001b[0m\u001b[1;33m(\u001b[0m\u001b[0mUser\u001b[0m\u001b[1;33m)\u001b[0m\u001b[1;33m.\u001b[0m\u001b[0mfilter\u001b[0m\u001b[1;33m(\u001b[0m\u001b[0mUser\u001b[0m\u001b[1;33m.\u001b[0m\u001b[0mphone_number\u001b[0m\u001b[1;33m==\u001b[0m\u001b[0mphone_number\u001b[0m\u001b[1;33m)\u001b[0m\u001b[1;33m[\u001b[0m\u001b[1;36m0\u001b[0m\u001b[1;33m]\u001b[0m\u001b[1;33m\u001b[0m\u001b[0m\n\u001b[0m\u001b[0;32m     52\u001b[0m         \u001b[0msession\u001b[0m\u001b[1;33m.\u001b[0m\u001b[0mdelete\u001b[0m\u001b[1;33m(\u001b[0m\u001b[0muser\u001b[0m\u001b[1;33m)\u001b[0m\u001b[1;33m\u001b[0m\u001b[0m\n\u001b[0;32m     53\u001b[0m \u001b[1;33m\u001b[0m\u001b[0m\n",
        "\u001b[1;32m/usr/local/lib/python2.7/dist-packages/sqlalchemy/orm/query.pyc\u001b[0m in \u001b[0;36m__getitem__\u001b[1;34m(self, item)\u001b[0m\n\u001b[0;32m   2231\u001b[0m                 \u001b[1;32mreturn\u001b[0m \u001b[0mlist\u001b[0m\u001b[1;33m(\u001b[0m\u001b[0mself\u001b[0m\u001b[1;33m)\u001b[0m\u001b[1;33m[\u001b[0m\u001b[1;33m-\u001b[0m\u001b[1;36m1\u001b[0m\u001b[1;33m]\u001b[0m\u001b[1;33m\u001b[0m\u001b[0m\n\u001b[0;32m   2232\u001b[0m             \u001b[1;32melse\u001b[0m\u001b[1;33m:\u001b[0m\u001b[1;33m\u001b[0m\u001b[0m\n\u001b[1;32m-> 2233\u001b[1;33m                 \u001b[1;32mreturn\u001b[0m \u001b[0mlist\u001b[0m\u001b[1;33m(\u001b[0m\u001b[0mself\u001b[0m\u001b[1;33m[\u001b[0m\u001b[0mitem\u001b[0m\u001b[1;33m:\u001b[0m\u001b[0mitem\u001b[0m \u001b[1;33m+\u001b[0m \u001b[1;36m1\u001b[0m\u001b[1;33m]\u001b[0m\u001b[1;33m)\u001b[0m\u001b[1;33m[\u001b[0m\u001b[1;36m0\u001b[0m\u001b[1;33m]\u001b[0m\u001b[1;33m\u001b[0m\u001b[0m\n\u001b[0m\u001b[0;32m   2234\u001b[0m \u001b[1;33m\u001b[0m\u001b[0m\n\u001b[0;32m   2235\u001b[0m     \u001b[1;33m@\u001b[0m\u001b[0m_generative\u001b[0m\u001b[1;33m(\u001b[0m\u001b[0m_no_statement_condition\u001b[0m\u001b[1;33m)\u001b[0m\u001b[1;33m\u001b[0m\u001b[0m\n",
        "\u001b[1;31mIndexError\u001b[0m: list index out of range"
       ]
      }
     ],
     "prompt_number": 23
    },
    {
     "cell_type": "code",
     "collapsed": false,
     "input": [
      "M.logout()"
     ],
     "language": "python",
     "metadata": {},
     "outputs": [
      {
       "metadata": {},
       "output_type": "pyout",
       "prompt_number": 10,
       "text": [
        "('BYE', ['LOGOUT Requested'])"
       ]
      }
     ],
     "prompt_number": 10
    },
    {
     "cell_type": "code",
     "collapsed": false,
     "input": [
      "data_num = '1'"
     ],
     "language": "python",
     "metadata": {},
     "outputs": [],
     "prompt_number": 19
    },
    {
     "cell_type": "code",
     "collapsed": false,
     "input": [
      "data_num.split()"
     ],
     "language": "python",
     "metadata": {},
     "outputs": [
      {
       "metadata": {},
       "output_type": "pyout",
       "prompt_number": 20,
       "text": [
        "['1']"
       ]
      }
     ],
     "prompt_number": 20
    },
    {
     "cell_type": "code",
     "collapsed": false,
     "input": [],
     "language": "python",
     "metadata": {},
     "outputs": []
    }
   ],
   "metadata": {}
  }
 ]
}