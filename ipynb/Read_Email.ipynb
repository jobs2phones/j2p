{
 "metadata": {
  "name": "",
  "signature": "sha256:1944d51614279a2979b0c49626f24c76c0ac572836d09d1349c7ae902ce930ef"
 },
 "nbformat": 3,
 "nbformat_minor": 0,
 "worksheets": [
  {
   "cells": [
    {
     "cell_type": "code",
     "collapsed": false,
     "input": [
      "import sys\n",
      "import imaplib\n",
      "import email\n",
      "import datetime\n",
      "import yaml\n",
      "import re\n",
      "from bs4 import BeautifulSoup\n",
      "sys.path.append('../')\n",
      "import jobs2phones as j2p"
     ],
     "language": "python",
     "metadata": {},
     "outputs": [],
     "prompt_number": 1
    },
    {
     "cell_type": "code",
     "collapsed": false,
     "input": [
      "with open('../config.yaml') as f:\n",
      "    cf = yaml.safe_load(f)"
     ],
     "language": "python",
     "metadata": {},
     "outputs": [],
     "prompt_number": 2
    },
    {
     "cell_type": "code",
     "collapsed": false,
     "input": [
      "def parse_text_message_from_email(msg):\n",
      "    '''\n",
      "    Gets the actual text sent to the email address by parsing it out of the email body\n",
      "    '''\n",
      "    text = {}\n",
      "    text['sender'] = msg['from']\n",
      "    msg_body = ''\n",
      "    if msg.is_multipart():\n",
      "        for i,part in enumerate(msg.walk()):\n",
      "            if part.get_content_type() =='text/plain':\n",
      "                msg_body = part.get_payload(decode=True)\n",
      "            elif part.get_content_type() =='text/html':\n",
      "                msg_soup = BeautifulSoup(part.get_payload(decode=True))\n",
      "    else:\n",
      "        msg_body = msg.get_payload(decode=True)\n",
      "    \n",
      "    if len(msg_body) == 0:\n",
      "        msg_soup.find('body').text\n",
      "    \n",
      "    msg_body.replace('\\r','').replace('\\n','')\n",
      "   \n",
      "    text['message']=msg_body\n",
      "    return text\n",
      "\n",
      "\n",
      "def parse_choices(choices_made):\n",
      "    '''\n",
      "    Takes a numbered list of choices and maps them to the relevant search criteria.\n",
      "    '''\n",
      "    search_criteria='';\n",
      "    for choice in choices_made:\n",
      "        if choice == '1':\n",
      "            search_criteria='dishwasher&20philadelphia ' + search_criteria\n",
      "        if choice == '2':\n",
      "            search_criteria='warehouse&20philadelphia ' + search_criteria\n",
      "        if choice == '3':\n",
      "            search_criteria='cook&20philadelphia ' + search_criteria\n",
      "    return search_criteria\n",
      "\n",
      "def read_mailbox_and_edit_users(M):\n",
      "    \"\"\"\n",
      "    Processes mail in order to add,edit, and remove users\n",
      "    \"\"\"\n",
      "    Session = j2p.bind_to_database(cf['postgres_username'],cf['postgres_password'],cf['postgres_db'])\n",
      "    rv, data_num = M.search(None, \"ALL\")\n",
      "    if rv != 'OK':\n",
      "        print \"No messages found!\"\n",
      "        return\n",
      "                    \n",
      "    messages=[]\n",
      "    for num in data_num[0].split():\n",
      "        rv, data = M.fetch(num, '(RFC822)')\n",
      "        if rv != 'OK':\n",
      "            print \"ERROR getting message\", num\n",
      "            return\n",
      "        email_data = email.message_from_string(data[0][1])\n",
      "        text = parse_text_message_from_email(email_data)\n",
      "        choices_made = re.findall(r'\\d+',text['message'])\n",
      "        if 'stop' in text['message'].lower():\n",
      "            j2p.delete_user(Session,text['sender'])\n",
      "            j2p.send_text(cf['fromaddr'],cf['username'],cf['password'],text['sender'],cf['stop_message'])\n",
      "            M.store(num , '+FLAGS', '\\\\Deleted') #This archives the message.\n",
      "        elif 'start' in text['message'].lower() or 'list' in text['message'].lower():\n",
      "            j2p.send_text(cf['fromaddr'],cf['username'],cf['password'],text['sender'],cf['start_message'])\n",
      "            M.store(num , '+FLAGS', '\\\\Deleted') #This archives the message.\n",
      "        elif len(choices_made) > 0:\n",
      "            search_criteria = parse_choices(choices_made)\n",
      "            if len(search_criteria) > 0:\n",
      "                if j2p.check_user(Session,text['sender']):\n",
      "                    j2p.edit_user(Session,text['sender'],search_criteria)\n",
      "                else:\n",
      "                    j2p.insert_user(Session,'',text['sender'],'',search_criteria)\n",
      "                j2p.send_text(cf['fromaddr'],cf['username'],cf['password'],text['sender'],\n",
      "                              str(choices_made) + '. ' + cf['chosen_message'])\n",
      "                M.store(num , '+FLAGS', '\\\\Deleted') #This archives the message."
     ],
     "language": "python",
     "metadata": {},
     "outputs": [],
     "prompt_number": 35
    },
    {
     "cell_type": "code",
     "collapsed": false,
     "input": [
      "EMAIL_ACCOUNT = cf['username']\n",
      "EMAIL_FOLDER = \"INBOX\"\n",
      "\n",
      "M = imaplib.IMAP4_SSL('imap.gmail.com')\n",
      "\n",
      "try:\n",
      "    rv, data = M.login(EMAIL_ACCOUNT, cf['password'])\n",
      "except imaplib.IMAP4.error:\n",
      "    print \"LOGIN FAILED!!! \"\n",
      "    sys.exit(1)"
     ],
     "language": "python",
     "metadata": {},
     "outputs": [],
     "prompt_number": 36
    },
    {
     "cell_type": "code",
     "collapsed": true,
     "input": [
      "rv, data = M.select(EMAIL_FOLDER)\n",
      "if rv == 'OK':\n",
      "    print \"Processing mailbox...\"\n",
      "    read_mailbox_and_edit_users(M)\n",
      "    M.close()\n",
      "else:\n",
      "    print \"ERROR: Unable to open mailbox \", rv"
     ],
     "language": "python",
     "metadata": {},
     "outputs": [
      {
       "output_type": "stream",
       "stream": "stdout",
       "text": [
        "Processing mailbox...\n"
       ]
      }
     ],
     "prompt_number": 37
    },
    {
     "cell_type": "code",
     "collapsed": false,
     "input": [
      "M.logout()"
     ],
     "language": "python",
     "metadata": {},
     "outputs": [
      {
       "metadata": {},
       "output_type": "pyout",
       "prompt_number": 10,
       "text": [
        "('BYE', ['LOGOUT Requested'])"
       ]
      }
     ],
     "prompt_number": 10
    },
    {
     "cell_type": "code",
     "collapsed": false,
     "input": [
      "data_num = '1'"
     ],
     "language": "python",
     "metadata": {},
     "outputs": [],
     "prompt_number": 19
    },
    {
     "cell_type": "code",
     "collapsed": false,
     "input": [
      "data_num.split()"
     ],
     "language": "python",
     "metadata": {},
     "outputs": [
      {
       "metadata": {},
       "output_type": "pyout",
       "prompt_number": 20,
       "text": [
        "['1']"
       ]
      }
     ],
     "prompt_number": 20
    },
    {
     "cell_type": "code",
     "collapsed": false,
     "input": [],
     "language": "python",
     "metadata": {},
     "outputs": []
    }
   ],
   "metadata": {}
  }
 ]
}