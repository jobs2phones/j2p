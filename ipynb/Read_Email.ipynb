{
 "metadata": {
  "name": "",
  "signature": "sha256:2c92104a33dcdb236a5071815d2c594df7f1f16d4c7ce7cda8af0111f97a0c85"
 },
 "nbformat": 3,
 "nbformat_minor": 0,
 "worksheets": [
  {
   "cells": [
    {
     "cell_type": "code",
     "collapsed": false,
     "input": [
      "import sys\n",
      "import imaplib\n",
      "import email\n",
      "import datetime\n",
      "import yaml"
     ],
     "language": "python",
     "metadata": {},
     "outputs": [],
     "prompt_number": 39
    },
    {
     "cell_type": "code",
     "collapsed": false,
     "input": [
      "with open('../config.yaml') as f:\n",
      "    cf = yaml.safe_load(f)"
     ],
     "language": "python",
     "metadata": {},
     "outputs": [],
     "prompt_number": 97
    },
    {
     "cell_type": "code",
     "collapsed": false,
     "input": [
      "EMAIL_ACCOUNT = cf['username']\n",
      "EMAIL_FOLDER = \"INBOX\"\n",
      "\n",
      "\n",
      "def process_mailbox(M):\n",
      "    \"\"\"\n",
      "    Do something with emails messages in the folder.  \n",
      "    For the sake of this example, print some headers.\n",
      "    \"\"\"\n",
      "    delete = True;\n",
      "    rv, data = M.search(None, \"ALL\")\n",
      "    if rv != 'OK':\n",
      "        print \"No messages found!\"\n",
      "        return\n",
      "\n",
      "    messages=[]\n",
      "    for num in data[0].split():\n",
      "        rv, data = M.fetch(num, '(RFC822)')\n",
      "        if rv != 'OK':\n",
      "            print \"ERROR getting message\", num\n",
      "            return\n",
      "\n",
      "        msg = email.message_from_string(data[0][1])\n",
      "        #print 'Raw Date:', msg['Date']\n",
      "        # Now convert to local date-time\n",
      "        date_tuple = email.utils.parsedate_tz(msg['Date'])\n",
      "        if date_tuple:\n",
      "            local_date = datetime.datetime.fromtimestamp(\n",
      "                email.utils.mktime_tz(date_tuple))\n",
      "            #print \"Local Date:\", local_date.strftime(\"%a, %d %b %Y %H:%M:%S\")\n",
      "        #typ, data = M.uid('COPY', num, '[Gmail]/Trash')\n",
      "        #typ, data = M.uid('STORE', num, '-X-GM-LABELS', '[Gmail]/INBOX')\n",
      "        if 'stop' in msg['Subject'].lower():\n",
      "            print msg['from']\n",
      "        if delete:\n",
      "            M.store(num , '+FLAGS', '\\\\Deleted') #This works for permanently deleting.\n",
      "            M.expunge()\n",
      "        messages.append(msg)\n",
      "    return messages\n",
      "\n",
      "\n",
      "M = imaplib.IMAP4_SSL('imap.gmail.com')\n",
      "\n",
      "try:\n",
      "    rv, data = M.login(EMAIL_ACCOUNT, cf['password'])\n",
      "except imaplib.IMAP4.error:\n",
      "    print \"LOGIN FAILED!!! \"\n",
      "    sys.exit(1)\n",
      "\n",
      "print rv, data\n",
      "\n",
      "#rv, mailboxes = M.list()\n",
      "#if rv == 'OK':\n",
      "    #print \"Mailboxes:\"\n",
      "    #print mailboxes\n",
      "\n",
      "rv, data = M.select(EMAIL_FOLDER)\n",
      "if rv == 'OK':\n",
      "    print \"Processing mailbox...\\n\"\n",
      "    messages = process_mailbox(M)\n",
      "    M.close()\n",
      "else:\n",
      "    print \"ERROR: Unable to open mailbox \", rv\n",
      "\n",
      "M.logout()"
     ],
     "language": "python",
     "metadata": {},
     "outputs": [],
     "prompt_number": 1
    }
   ],
   "metadata": {}
  }
 ]
}